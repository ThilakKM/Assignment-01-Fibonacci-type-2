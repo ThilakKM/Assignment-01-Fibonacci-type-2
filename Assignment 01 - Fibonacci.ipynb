{
 "cells": [
  {
   "cell_type": "markdown",
   "id": "2ca3ed55",
   "metadata": {},
   "source": [
    "# Assignment 01 - *Fibonacci* #"
   ]
  },
  {
   "cell_type": "code",
   "execution_count": 6,
   "id": "0f44522b",
   "metadata": {
    "scrolled": true
   },
   "outputs": [
    {
     "name": "stdout",
     "output_type": "stream",
     "text": [
      "Output : \n",
      "1 1 2 3 5 8 13 21 34 55 "
     ]
    }
   ],
   "source": [
    "x=0\n",
    "y=1\n",
    "print(\"Output : \")\n",
    "for i in range(1,11):\n",
    "    print(y,end=\" \")\n",
    "    z = x+y\n",
    "    x=y\n",
    "    y=z"
   ]
  }
 ],
 "metadata": {
  "kernelspec": {
   "display_name": "Python 3 (ipykernel)",
   "language": "python",
   "name": "python3"
  },
  "language_info": {
   "codemirror_mode": {
    "name": "ipython",
    "version": 3
   },
   "file_extension": ".py",
   "mimetype": "text/x-python",
   "name": "python",
   "nbconvert_exporter": "python",
   "pygments_lexer": "ipython3",
   "version": "3.10.2"
  }
 },
 "nbformat": 4,
 "nbformat_minor": 5
}
